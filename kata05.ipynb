{
 "cells": [
  {
   "cell_type": "markdown",
   "metadata": {},
   "source": [
    "# Ejercicio 1 - Operadores aritméticos en Python"
   ]
  },
  {
   "cell_type": "code",
   "execution_count": 18,
   "metadata": {},
   "outputs": [
    {
     "name": "stdout",
     "output_type": "stream",
     "text": [
      " La distancia es: 628949330\n",
      " La distancia en millas es: 390577534\n"
     ]
    }
   ],
   "source": [
    "# Distancia de planetas\n",
    "Tierra = 149597870\n",
    "Jupiter = 778547200\n",
    "\n",
    "# Distancia\n",
    "Distancia = Jupiter - Tierra\n",
    "print(\" La distancia es: \" + str(abs(Distancia)))\n",
    "\n",
    "# Millas\n",
    "Millas = 0.621\n",
    "DistanciaMillas = abs(Distancia) * 0.621\n",
    "print(\" La distancia en millas es: \" + str(round(DistanciaMillas)))"
   ]
  },
  {
   "cell_type": "markdown",
   "metadata": {},
   "source": [
    "# Ejercicio 2: Cadenas en números y valores absolutos"
   ]
  },
  {
   "cell_type": "code",
   "execution_count": 29,
   "metadata": {},
   "outputs": [
    {
     "name": "stdout",
     "output_type": "stream",
     "text": [
      " La distancia es: 628949330\n",
      " La distancia en millas es: 390577534\n"
     ]
    }
   ],
   "source": [
    "# Planeta\t  Distancia al sol\n",
    "# -----------------------------\n",
    "# Mercurio\t    57900000\n",
    "# Venus\t        108200000\n",
    "# Tierra    \t149600000\n",
    "# Marte\t        227900000\n",
    "# Júpiter\t    778600000\n",
    "# Saturno\t    1433500000\n",
    "# Urano\t        2872500000\n",
    "# Neptuno\t    4495100000\n",
    "\n",
    "\n",
    "# Input planetas\n",
    "Planeta1 = input(\"Ingresa la distancia del primer planeta en kilometros: \")\n",
    "Planeta2 = input(\"Ingresa la distancia del segundo planeta en kilometros: \")\n",
    "\n",
    "# Cadena a números enteros\n",
    "Planeta1 = int(Planeta1)\n",
    "Planeta2 = int(Planeta2)\n",
    "\n",
    "# Distancia\n",
    "Distancia = Planeta1 - Planeta2\n",
    "print(\" La distancia es: \" + str(abs(Distancia)))\n",
    "\n",
    "# Millas\n",
    "Millas = 0.621\n",
    "DistanciaMillas = abs(Distancia) * 0.621\n",
    "print(\" La distancia en millas es: \" + str(round(DistanciaMillas)))\n",
    "\n",
    "\n"
   ]
  }
 ],
 "metadata": {
  "interpreter": {
   "hash": "aee8b7b246df8f9039afb4144a1f6fd8d2ca17a180786b69acc140d282b71a49"
  },
  "kernelspec": {
   "display_name": "Python 3.10.2 64-bit",
   "language": "python",
   "name": "python3"
  },
  "language_info": {
   "codemirror_mode": {
    "name": "ipython",
    "version": 3
   },
   "file_extension": ".py",
   "mimetype": "text/x-python",
   "name": "python",
   "nbconvert_exporter": "python",
   "pygments_lexer": "ipython3",
   "version": "3.10.2"
  },
  "orig_nbformat": 4
 },
 "nbformat": 4,
 "nbformat_minor": 2
}
