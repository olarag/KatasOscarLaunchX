{
 "cells": [
  {
   "cell_type": "markdown",
   "metadata": {},
   "source": [
    "# Ejercicio - Escribir declaraciones if, else, y elif"
   ]
  },
  {
   "cell_type": "code",
   "execution_count": 41,
   "metadata": {},
   "outputs": [
    {
     "name": "stdout",
     "output_type": "stream",
     "text": [
      "El asteroide viene a una velocidad superior a 25 km/s\n"
     ]
    }
   ],
   "source": [
    "asteroide = input(\"Ingresar velocidad del asteroide: \")\n",
    "maxima = 25\n",
    "if int(asteroide) > maxima:\n",
    "    print(\"El asteroide viene a una velocidad superior a 25 km/s\")\n",
    "else:\n",
    "    print(\"El asteroide con velocidad adecuada.\")"
   ]
  },
  {
   "cell_type": "code",
   "execution_count": 44,
   "metadata": {},
   "outputs": [
    {
     "name": "stdout",
     "output_type": "stream",
     "text": [
      "El asteroide viene a velocidad menor a 20 km/s\n",
      " - Necesita más velocidad para que se vea un rayo de luz en el cielo.\n"
     ]
    }
   ],
   "source": [
    "asteroide = input(\"Ingresar velocidad del asteroide: \")\n",
    "maxima = 20\n",
    "if int(asteroide) > maxima:\n",
    "    print(\"El asteroide viene a una velocidad superior a 20 km/s\")\n",
    "    print(\" - Es posible que se vea un rayo de luz en el cielo.\")\n",
    "elif int(asteroide) == maxima:\n",
    "    print(\"El asteroide viene a una velocidad igual a 20 km/s\")\n",
    "    print(\" - Es posible que se vea un rayo de luz en el cielo.\")\n",
    "else:\n",
    "    print(\"El asteroide viene a velocidad menor a 20 km/s\")\n",
    "    print(\" - Necesita más velocidad para que se vea un rayo de luz en el cielo.\")\n"
   ]
  },
  {
   "cell_type": "markdown",
   "metadata": {},
   "source": [
    "# Ejercicio: Uso de operadores and y or"
   ]
  },
  {
   "cell_type": "code",
   "execution_count": 48,
   "metadata": {},
   "outputs": [
    {
     "name": "stdout",
     "output_type": "stream",
     "text": [
      "Asteroide con dimensión menor a 25 mts.\n",
      " - Probablemente se quemará al entrar a la tierra\n"
     ]
    }
   ],
   "source": [
    "asteroideVelocidad = input(\"Ingresar velocidad del asteroide: \")\n",
    "asteroideDimension = input(\"Ingresar dimensión del asteroide: \")\n",
    "\n",
    "dimensionMenor = 25\n",
    "dimensionMayor = 1000\n",
    "\n",
    "velocidadMaxima = 25\n",
    "velocidadLuz = 20\n",
    "\n",
    "\n",
    "if int(asteroideDimension) > dimensionMenor and int(asteroideDimension) < dimensionMayor and int(asteroideVelocidad) > velocidadMaxima:\n",
    "    print(\"Asteroide con dimensión mayor a 25 mts. y menor a 1000 mts.\") \n",
    "    print(\"Velocidad de asteroide mayor a 25 km/s\")\n",
    "    print(\" - ¡CORRE!\") \n",
    "elif int(asteroideVelocidad) >= velocidadLuz:\n",
    "    print(\"Velocidad de asteroide mayor a 20 km/s\")\n",
    "    print(\"Es posible que se vea un rayo de luz\")\n",
    "elif int(asteroideDimension) < dimensionMenor:\n",
    "    print(\"Asteroide con dimensión menor a 25 mts.\") \n",
    "    print(\" - Probablemente se quemará al entrar a la tierra\") \n",
    "else:\n",
    "    print(\"¡Todo normal!\")\n",
    "\n",
    "\n",
    "\n"
   ]
  }
 ],
 "metadata": {
  "interpreter": {
   "hash": "aee8b7b246df8f9039afb4144a1f6fd8d2ca17a180786b69acc140d282b71a49"
  },
  "kernelspec": {
   "display_name": "Python 3.10.2 64-bit",
   "language": "python",
   "name": "python3"
  },
  "language_info": {
   "codemirror_mode": {
    "name": "ipython",
    "version": 3
   },
   "file_extension": ".py",
   "mimetype": "text/x-python",
   "name": "python",
   "nbconvert_exporter": "python",
   "pygments_lexer": "ipython3",
   "version": "3.10.2"
  },
  "orig_nbformat": 4
 },
 "nbformat": 4,
 "nbformat_minor": 2
}
