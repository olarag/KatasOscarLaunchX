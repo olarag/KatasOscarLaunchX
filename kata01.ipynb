{
 "cells": [
  {
   "cell_type": "markdown",
   "metadata": {},
   "source": [
    "# Fecha de la nave."
   ]
  },
  {
   "cell_type": "code",
   "execution_count": 1,
   "metadata": {},
   "outputs": [
    {
     "name": "stdout",
     "output_type": "stream",
     "text": [
      "Fecha de la nave.\n",
      "\n",
      " - La fecha de hoy es: 2022-02-09\n"
     ]
    }
   ],
   "source": [
    "print(\"Fecha de la nave.\")\n",
    "print(\"\")\n",
    "\n",
    "from datetime import date\n",
    "\n",
    "# Obtenemos la fecha de hoy\n",
    "date.today()\n",
    "\n",
    "print(\" - La fecha de hoy es: \" + str(date.today()))"
   ]
  },
  {
   "cell_type": "markdown",
   "metadata": {},
   "source": [
    "# Convertidor de unidades"
   ]
  },
  {
   "cell_type": "code",
   "execution_count": 2,
   "metadata": {},
   "outputs": [
    {
     "name": "stdout",
     "output_type": "stream",
     "text": [
      "Convertidor de unidades.\n",
      "\n",
      " - 5 Parsec son 16.3078 lightyears\n"
     ]
    }
   ],
   "source": [
    "print(\"Convertidor de unidades.\")\n",
    "print(\"\")\n",
    "\n",
    "parsec = input(\"Ingresar número de parsec: \")\n",
    "# parsec = 11\n",
    "\n",
    "lightyears = 3.26156 * int(parsec)\n",
    "\n",
    "print(\" - \" + str(parsec) + \" Parsec son \" + str(lightyears) + \" lightyears\")"
   ]
  }
 ],
 "metadata": {
  "interpreter": {
   "hash": "aee8b7b246df8f9039afb4144a1f6fd8d2ca17a180786b69acc140d282b71a49"
  },
  "kernelspec": {
   "display_name": "Python 3.10.2 64-bit",
   "language": "python",
   "name": "python3"
  },
  "language_info": {
   "codemirror_mode": {
    "name": "ipython",
    "version": 3
   },
   "file_extension": ".py",
   "mimetype": "text/x-python",
   "name": "python",
   "nbconvert_exporter": "python",
   "pygments_lexer": "ipython3",
   "version": "3.10.2"
  },
  "orig_nbformat": 4
 },
 "nbformat": 4,
 "nbformat_minor": 2
}
