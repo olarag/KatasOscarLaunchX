{
 "cells": [
  {
   "cell_type": "markdown",
   "metadata": {},
   "source": [
    "# Ejercicio: Uso de funciones en Python\n",
    "Ejercicio 1: Trabajar con argumentos en funciones"
   ]
  },
  {
   "cell_type": "code",
   "execution_count": 108,
   "metadata": {},
   "outputs": [
    {
     "name": "stdout",
     "output_type": "stream",
     "text": [
      "Los tanques son: 5\n",
      "La suma de tanques es: 15\n",
      "El promedio es: 3.0\n"
     ]
    }
   ],
   "source": [
    "# Versión personal\n",
    "# Función para obtener el número de tanques y su suma.\n",
    "def Tanques(Tanques):\n",
    "    totalTanques = len(Tanques)\n",
    "    sumaTanques = sum(Tanques)\n",
    "    print('Los tanques son:',totalTanques)\n",
    "    print('La suma de tanques es:',sumaTanques)\n",
    "    return(sumaTanques,totalTanques)\n",
    "\n",
    "# Función para obtener el promedio.\n",
    "def Promedio(totales):\n",
    "    print(f'El promedio es: {totales[0]/totales[1]}')\n",
    "\n",
    "# Variables\n",
    "ingresoTanques = ''\n",
    "tanquesValores = []\n",
    "\n",
    "# while para obtener el contenido de los tanques\n",
    "while ingresoTanques.lower() != 'done':\n",
    "    if(ingresoTanques):\n",
    "        tanquesValores.append(int(ingresoTanques))\n",
    "    ingresoTanques = input('Ingresar tanque, escribe done para terminar')\n",
    "\n",
    "# Obtenemos los valores\n",
    "Promedio(Tanques(tanquesValores))\n"
   ]
  },
  {
   "cell_type": "code",
   "execution_count": 113,
   "metadata": {},
   "outputs": [
    {
     "name": "stdout",
     "output_type": "stream",
     "text": [
      "Reporte General:\n",
      "    Promedio Total: 78.0%\n",
      "    Tanque principal: 88%\n",
      "    Tanque externo: 76%\n",
      "    Tanque de hidrógeno: 70% \n",
      "    \n"
     ]
    }
   ],
   "source": [
    "# Versión de ejemplo.\n",
    "# Se genera la función de generarReporte\n",
    "def generarReporte(tanquePrincipal, tanqueExterno, tanqueHidrogeno):\n",
    "    # total_average = (tanquePrincipal + tanqueExterno + tanqueHidrogeno) / 3\n",
    "    return f\"\"\"Reporte General:\n",
    "    Promedio Total: {average([tanquePrincipal, tanqueExterno, tanqueHidrogeno])}%\n",
    "    Tanque principal: {tanquePrincipal}%\n",
    "    Tanque externo: {tanqueExterno}%\n",
    "    Tanque de hidrógeno: {tanqueHidrogeno}% \n",
    "    \"\"\"\n",
    "\n",
    "# Se imprime el reporte\n",
    "# print(generarReporte(80, 70, 85))\n",
    "\n",
    "# Se genera la función del promedio \n",
    "def average(values):\n",
    "    total = sum(values)\n",
    "    totalTanques = len(values)\n",
    "    return total / totalTanques\n",
    "\n",
    "# Se manda llamar la función de promedio\n",
    "# average([80, 85, 81]) \n",
    "\n",
    "# Call the updated function again with different values\n",
    "print(generarReporte(88, 76, 70))\n",
    "\n",
    "\n"
   ]
  },
  {
   "cell_type": "markdown",
   "metadata": {},
   "source": [
    "# Ejercicio 2: Trabajo con argumentos de palabra clave\n",
    "Ejercicio : Trabajar con argumentos de palabras clave en funciones"
   ]
  },
  {
   "cell_type": "code",
   "execution_count": 137,
   "metadata": {},
   "outputs": [
    {
     "name": "stdout",
     "output_type": "stream",
     "text": [
      "\n",
      "    Misión a Luna\n",
      "    *******************************************************\n",
      "    Tiempo total de viaje: 74 minutos\n",
      "    Total de combustible: 730000 galones\n",
      "       Tanque principal  --> 300000 galones disponibles\n",
      "       Tanque externo  --> 200000 galones disponibles\n",
      "       Tanque hidrógeno  --> 230000 galones disponibles\n",
      "    *******************************************************\n"
     ]
    }
   ],
   "source": [
    "# Escribe tu nueva función\n",
    "\n",
    "def reporteMision(destino, *minutos, **combustible):\n",
    "    main_report = f\"\"\"\n",
    "    Misión a {destino}\n",
    "    {\"*\"*55}\n",
    "    Tiempo total de viaje: {sum(minutos)} minutos\n",
    "    Total de combustible: {sum(combustible.values())} galones\n",
    "    \"\"\"\n",
    "    for tank_name, gallons in combustible.items():\n",
    "        main_report += f\"   Tanque {tank_name}  --> {gallons} galones disponibles\\n    \"\n",
    "    main_report += f\"\"\"{\"*\"*55}\"\"\"\n",
    "    return main_report\n",
    "\n",
    "\n",
    "print(reporteMision(\"Luna\", 8, 11, 55, principal=300000, externo=200000, hidrógeno=230000))"
   ]
  }
 ],
 "metadata": {
  "interpreter": {
   "hash": "aee8b7b246df8f9039afb4144a1f6fd8d2ca17a180786b69acc140d282b71a49"
  },
  "kernelspec": {
   "display_name": "Python 3.10.2 64-bit",
   "language": "python",
   "name": "python3"
  },
  "language_info": {
   "codemirror_mode": {
    "name": "ipython",
    "version": 3
   },
   "file_extension": ".py",
   "mimetype": "text/x-python",
   "name": "python",
   "nbconvert_exporter": "python",
   "pygments_lexer": "ipython3",
   "version": "3.10.2"
  },
  "orig_nbformat": 4
 },
 "nbformat": 4,
 "nbformat_minor": 2
}
