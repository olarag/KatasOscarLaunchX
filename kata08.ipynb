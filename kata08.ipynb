{
 "cells": [
  {
   "cell_type": "markdown",
   "metadata": {},
   "source": [
    "# Ejercicio 1: Creación de diccionarios de Python\n",
    "Ejercicio: Crear y modificar un diccionario de Python"
   ]
  },
  {
   "cell_type": "code",
   "execution_count": 43,
   "metadata": {},
   "outputs": [
    {
     "name": "stdout",
     "output_type": "stream",
     "text": [
      "{'name': 'Mars', 'moons': 2}\n",
      "El planeta es: Mars y sus luna son: 2\n",
      "\n",
      " {'name': 'Mars', 'moons': 2, 'circunferencia (km)': {'polar': 6752, 'equatorial': 6792}}\n",
      "\n",
      "La circunferencia polar de Mars es 6752\n",
      "La circunferencia equatorial de Mars es 6792\n"
     ]
    }
   ],
   "source": [
    "Planeta = {}\n",
    "\n",
    "Planeta['name'] = 'Mars'\n",
    "Planeta['moons'] = 2\n",
    "\n",
    "# Se muestra el diccionario\n",
    "print(Planeta)\n",
    "\n",
    "# Se muestra el planeta y las lunas\n",
    "print(f'El planeta es: {Planeta[\"name\"]} y sus luna son: {Planeta[\"moons\"]}')\n",
    "\n",
    "# polar: 6752\n",
    "# equatorial: 6792\n",
    "\n",
    "Planeta['circunferencia (km)'] = {\n",
    "    'polar': 6752,\n",
    "    'equatorial': 6792\n",
    "}\n",
    "\n",
    "# Se muestra el diccionario con nuevos datos\n",
    "print(\"\\n\",Planeta)\n",
    "\n",
    "# Se muestra el planeta y las lunas\n",
    "print(f'\\nLa circunferencia polar de {Planeta[\"name\"]} es {Planeta[\"circunferencia (km)\"][\"polar\"]}')\n",
    "print(f'La circunferencia equatorial de {Planeta[\"name\"]} es {Planeta[\"circunferencia (km)\"][\"equatorial\"]}')\n",
    "\n",
    "\n"
   ]
  },
  {
   "cell_type": "markdown",
   "metadata": {},
   "source": [
    "# Ejercicio 2: Programación dinámica con diccionarios\n",
    "Ejercicio: Cálculo de valores"
   ]
  },
  {
   "cell_type": "code",
   "execution_count": 48,
   "metadata": {},
   "outputs": [
    {
     "name": "stdout",
     "output_type": "stream",
     "text": [
      "mercury: 0\n",
      "venus: 0\n",
      "earth: 1\n",
      "mars: 2\n",
      "jupiter: 79\n",
      "saturn: 82\n",
      "uranus: 27\n",
      "neptune: 14\n",
      "pluto: 5\n",
      "haumea: 2\n",
      "makemake: 1\n",
      "eris: 1\n",
      "\n",
      "El total de planetas son: 12\n",
      "El total de lunas son: 214\n",
      "El promedio de lunas son: 17.833333333333332\n"
     ]
    }
   ],
   "source": [
    "# Planets and moons\n",
    "planetasLunas = {\n",
    "    'mercury': 0,\n",
    "    'venus': 0,\n",
    "    'earth': 1,\n",
    "    'mars': 2,\n",
    "    'jupiter': 79,\n",
    "    'saturn': 82,\n",
    "    'uranus': 27,\n",
    "    'neptune': 14,\n",
    "    'pluto': 5,\n",
    "    'haumea': 2,\n",
    "    'makemake': 1,\n",
    "    'eris': 1\n",
    "}\n",
    "\n",
    "totalLunas = 0\n",
    "totalPlanetas = len(planetasLunas)\n",
    "\n",
    "# Se cuentan el total de lunas.\n",
    "for lunas in planetasLunas.keys():\n",
    "    print(f'{lunas}: {planetasLunas[lunas]}')\n",
    "    totalLunas = totalLunas + planetasLunas[lunas]\n",
    "\n",
    "# Se muestra los datos.\n",
    "print('\\nEl total de planetas son:',totalPlanetas)\n",
    "print('El total de lunas son:', totalLunas)\n",
    "print('El promedio de lunas son:',totalLunas / totalPlanetas)\n"
   ]
  },
  {
   "cell_type": "markdown",
   "metadata": {},
   "source": [
    "Solución de ejemplo."
   ]
  },
  {
   "cell_type": "code",
   "execution_count": 49,
   "metadata": {},
   "outputs": [
    {
     "name": "stdout",
     "output_type": "stream",
     "text": [
      "17.833333333333332\n"
     ]
    }
   ],
   "source": [
    "# Añade el código para determinar el número de lunas.\n",
    "\n",
    "# Planets and moons\n",
    "planet_moons = {\n",
    "    'mercury': 0,\n",
    "    'venus': 0,\n",
    "    'earth': 1,\n",
    "    'mars': 2,\n",
    "    'jupiter': 79,\n",
    "    'saturn': 82,\n",
    "    'uranus': 27,\n",
    "    'neptune': 14,\n",
    "    'pluto': 5,\n",
    "    'haumea': 2,\n",
    "    'makemake': 1,\n",
    "    'eris': 1\n",
    "}\n",
    "\n",
    "# Obtenemos la lista de las lunas\n",
    "# Almacenamos los resultados en una variable moons\n",
    "moons = planet_moons.values()\n",
    "\n",
    "# Obtenemos el total de planetas\n",
    "# Almacenamos los resultados en una variable llamada years\n",
    "planets = len(planet_moons.keys())\n",
    "\n",
    "# Calcula el total_moons agregando todas las lunas\n",
    "# Almacena su valor en una variable llamada total_moons\n",
    "\n",
    "total_moons = 0\n",
    "for moon in moons:\n",
    "    total_moons = total_moons + moon\n",
    "\n",
    "# Calcula el promedio dividiendo el total_moons por el número de planetas\n",
    "average = total_moons / planets\n",
    "\n",
    "# Muestra el promedio\n",
    "print(average)"
   ]
  }
 ],
 "metadata": {
  "interpreter": {
   "hash": "aee8b7b246df8f9039afb4144a1f6fd8d2ca17a180786b69acc140d282b71a49"
  },
  "kernelspec": {
   "display_name": "Python 3.10.2 64-bit",
   "language": "python",
   "name": "python3"
  },
  "language_info": {
   "codemirror_mode": {
    "name": "ipython",
    "version": 3
   },
   "file_extension": ".py",
   "mimetype": "text/x-python",
   "name": "python",
   "nbconvert_exporter": "python",
   "pygments_lexer": "ipython3",
   "version": "3.10.2"
  },
  "orig_nbformat": 4
 },
 "nbformat": 4,
 "nbformat_minor": 2
}
