{
 "cells": [
  {
   "cell_type": "markdown",
   "metadata": {},
   "source": [
    "# Ejercicio 1,2 : Creación de un bucle \"while\" y Creación de un ciclo \"for\""
   ]
  },
  {
   "cell_type": "code",
   "execution_count": 19,
   "metadata": {},
   "outputs": [
    {
     "name": "stdout",
     "output_type": "stream",
     "text": [
      "La lista de planetas agregados es:\n",
      "    ['Earth', 'Mars', 'Uranus', 'Venus']\n",
      "\n",
      "Los planetas agregados son:\n",
      "    1 .-  Venus\n",
      "    2 .-  Uranus\n",
      "    3 .-  Mars\n",
      "    4 .-  Earth\n"
     ]
    }
   ],
   "source": [
    "PlanetasLista = ['Mercury', 'Venus', 'Earth', 'Mars', 'Jupiter', 'Saturn', 'Uranus', 'Neptune']\n",
    "nuevosPlanetas = ''\n",
    "Planetas = []\n",
    "i = 1\n",
    "\n",
    "while nuevosPlanetas.lower() != 'done':\n",
    "    if nuevosPlanetas:\n",
    "        if nuevosPlanetas in PlanetasLista:\n",
    "            Planetas.append(nuevosPlanetas)\n",
    "    nuevosPlanetas = input('Ingresa un nuevo planeta, escribe done para terminar')\n",
    "\n",
    "print(\"La lista de planetas agregados es:\")\n",
    "print(\"   \",sorted(Planetas))\n",
    "\n",
    "print(\"\\nLos planetas agregados son:\")\n",
    "for Planeta in Planetas:\n",
    "    print(\"   \",i,\".- \", Planeta)\n",
    "    i = i + 1\n",
    "    "
   ]
  }
 ],
 "metadata": {
  "interpreter": {
   "hash": "aee8b7b246df8f9039afb4144a1f6fd8d2ca17a180786b69acc140d282b71a49"
  },
  "kernelspec": {
   "display_name": "Python 3.10.2 64-bit",
   "language": "python",
   "name": "python3"
  },
  "language_info": {
   "codemirror_mode": {
    "name": "ipython",
    "version": 3
   },
   "file_extension": ".py",
   "mimetype": "text/x-python",
   "name": "python",
   "nbconvert_exporter": "python",
   "pygments_lexer": "ipython3",
   "version": "3.10.2"
  },
  "orig_nbformat": 4
 },
 "nbformat": 4,
 "nbformat_minor": 2
}
