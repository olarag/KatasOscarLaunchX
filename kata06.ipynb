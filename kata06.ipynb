{
 "cells": [
  {
   "cell_type": "markdown",
   "metadata": {},
   "source": [
    "# Ejercicio1: Crear y usar listas de Python"
   ]
  },
  {
   "cell_type": "code",
   "execution_count": 18,
   "metadata": {},
   "outputs": [
    {
     "name": "stdout",
     "output_type": "stream",
     "text": [
      "['Mercury', 'Venus', 'Earth', 'Mars', 'Jupiter', 'Saturn', 'Uranus', 'Neptune']\n",
      "8 Planetas\n",
      "9 Planetas\n",
      "['Mercury', 'Venus', 'Earth', 'Mars', 'Jupiter', 'Saturn', 'Uranus', 'Neptune', 'Pluto']\n",
      "El último planeta agregado a la lista es: Pluto\n"
     ]
    }
   ],
   "source": [
    "Planetas = ['Mercury', 'Venus', 'Earth', 'Mars', 'Jupiter', 'Saturn', 'Uranus', 'Neptune']\n",
    "\n",
    "# Mostramos los planetas\n",
    "print(Planetas)\n",
    "\n",
    "# Mostramos el número de planetas\n",
    "numeroPlanetas = len(Planetas)\n",
    "print(str(numeroPlanetas) + \" Planetas\")\n",
    "\n",
    "# Se agrega Plutón\n",
    "Planetas.append('Pluto')\n",
    "numeroPlanetas = len(Planetas)\n",
    "print(str(numeroPlanetas) + \" Planetas\")\n",
    "\n",
    "# Mostramos los planetas\n",
    "print(Planetas)\n",
    "\n",
    "# Mosrtamos el último planeta.\n",
    "print(\"El último planeta agregado a la lista es: \" + Planetas[-1])\n"
   ]
  },
  {
   "cell_type": "markdown",
   "metadata": {},
   "source": [
    "# Ejercicio 2: Trabajando con datos de una lista"
   ]
  },
  {
   "cell_type": "code",
   "execution_count": 28,
   "metadata": {},
   "outputs": [
    {
     "name": "stdout",
     "output_type": "stream",
     "text": [
      "['Mercury', 'Venus', 'Earth', 'Mars', 'Jupiter', 'Saturn', 'Uranus', 'Neptune']\n",
      "8 Planetas\n",
      "Mars\n",
      "El planeta se encuentra en el lugar 4\n",
      "['Mercury', 'Venus', 'Earth']\n",
      "['Jupiter', 'Saturn', 'Uranus', 'Neptune']\n"
     ]
    }
   ],
   "source": [
    "Planetas = ['Mercury', 'Venus', 'Earth', 'Mars', 'Jupiter', 'Saturn', 'Uranus', 'Neptune']\n",
    "\n",
    "# Mostramos los planetas\n",
    "print(Planetas)\n",
    "\n",
    "# Mostramos el número de planetas\n",
    "numeroPlanetas = len(Planetas)\n",
    "print(str(numeroPlanetas) + \" Planetas\")\n",
    "\n",
    "# Se ingresa el planeta\n",
    "Planeta = input(\"Ingresa el nombre del planeta: \")\n",
    "print(Planeta)\n",
    "\n",
    "# Se obtiene la posición del planeta en la lista\n",
    "PlanetaIndice = Planetas.index(Planeta)\n",
    "print('El planeta se encuentra en el lugar', PlanetaIndice + 1)\n",
    "\n",
    "# Se muestran los planetas más cercanos al sol con respecto al planeta seleccionado\n",
    "PlanetasAntes = Planetas[0:PlanetaIndice]\n",
    "print(PlanetasAntes)\n",
    "\n",
    "# Se muestran los planetas más alejados al sol con respecto al planeta seleccionado\n",
    "PlanetasDespues = Planetas[PlanetaIndice + 1:]\n",
    "print(PlanetasDespues) \n",
    "\n"
   ]
  }
 ],
 "metadata": {
  "interpreter": {
   "hash": "aee8b7b246df8f9039afb4144a1f6fd8d2ca17a180786b69acc140d282b71a49"
  },
  "kernelspec": {
   "display_name": "Python 3.10.2 64-bit",
   "language": "python",
   "name": "python3"
  },
  "language_info": {
   "codemirror_mode": {
    "name": "ipython",
    "version": 3
   },
   "file_extension": ".py",
   "mimetype": "text/x-python",
   "name": "python",
   "nbconvert_exporter": "python",
   "pygments_lexer": "ipython3",
   "version": "3.10.2"
  },
  "orig_nbformat": 4
 },
 "nbformat": 4,
 "nbformat_minor": 2
}
